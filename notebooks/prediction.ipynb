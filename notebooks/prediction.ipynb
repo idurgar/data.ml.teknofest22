{
 "cells": [
  {
   "cell_type": "code",
   "execution_count": null,
   "metadata": {},
   "outputs": [],
   "source": [
    "from tensorflow.keras.models import load_model\n",
    "import pickle\n",
    "import pandas as pd\n",
    "import tensorflow as tf\n",
    "import os\n",
    "from tqdm import tqdm\n",
    "\n",
    "source_path = (os.path.abspath(os.path.join(os.path.dirname(\"__file__\"), '..'))+ '/src/')\n",
    "sys.path.append(source_path)\n",
    "\n",
    "from predict_all import *\n",
    "\n",
    "gpu_number = DEVICE_NUMBER #### SET GPU number \n",
    "gpus = tf.config.list_physical_devices('GPU')\n",
    "if gpus:\n",
    "\ttf.config.experimental.set_visible_devices(gpus[gpu_number], 'GPU') \n",
    "\tlogical_gpus = tf.config.experimental.list_logical_devices('GPU')"
   ]
  },
  {
   "cell_type": "code",
   "execution_count": null,
   "metadata": {},
   "outputs": [],
   "source": [
    "main_dir = os.path.dirname(os.path.dirname(os.path.abspath(\"__file__\")))\n",
    "data_dir = os.path.join(main_dir, \"data/\")\n",
    "models_dir = os.path.join(main_dir, \"model/\")\n",
    "outputs_dir = models_dir = os.path.join(main_dir, \"outputs/\")"
   ]
  },
  {
   "cell_type": "markdown",
   "metadata": {},
   "source": [
    "### Gerekliliklerin Yüklenmesi\n",
    "- <b>word_index:</b> <i>{'resmi': 1, 'gazete': 2, 'tarihi': 3, 'sayısı': 4, 'kanun': 5, .... }</i>\n",
    "- <b>label_dict:</b> <i>{'Cumhurbaşkanlığı Kararnamesi': 0, 'Genelge': 1, 'Kanun': 2, 'Kanun Hükmünde Kararname': 3, ...}</i>"
   ]
  },
  {
   "cell_type": "code",
   "execution_count": null,
   "metadata": {},
   "outputs": [],
   "source": [
    "# formed as a result of training\n",
    "model_name = \"model.hdf5\"\n",
    "word_index_name = \"word_index.pkl\"\n",
    "label_dict_name = \"label_dict.pkl\""
   ]
  },
  {
   "cell_type": "code",
   "execution_count": null,
   "metadata": {},
   "outputs": [],
   "source": [
    "# load data, model, word_index and label_dict\n",
    "df = pd.read_csv(data_dir + \"ornek-eval-dataset-yarismacilara-verilecek.csv\")\n",
    "\n",
    "model = load_model(models_dir + f\"{model_name}\")\n",
    "word_index = pickle.load(open(data_dir + f\"{word_index_name}\", \"rb\"))\n",
    "label_dict = pickle.load(open(data_dir + f\"{label_dict_name}\", \"rb\"))"
   ]
  },
  {
   "cell_type": "markdown",
   "metadata": {},
   "source": [
    "### Tahminleme"
   ]
  },
  {
   "cell_type": "code",
   "execution_count": null,
   "metadata": {},
   "outputs": [],
   "source": [
    "#kanun:       rega_no, mukerrer_no, rega_tarihi, mevzuat_tarihi, mevzuat_no, len(matching_madde_list)\n",
    "#khk:         rega_no, mukerrer_no, rega_tarihi, mevzuat_no, mevzuat_tarihi, len(matching_madde_list)\n",
    "#cumhur:      rega_no, mukerrer_no, rega_tarihi, mevzuat_no, mevzuat_tarihi, len(matching_madde_list)\n",
    "#tuzuk: \t  rega_no, mukerrer_no, rega_tarihi, mevzuat_no, mevzuat_tarihi, len(matching_madde_list)\n",
    "#yonetmelik:  rega_no, mukerrer_no, rega_tarihi, len(matching_madde_list)\n",
    "#komisyon:    sira_no, donem\n",
    "#genelge:     mevzuat_tarihi, mevzuat_no, belge_sayi\n",
    "#ozelge:      mevzuat_tarihi\n",
    "#tebliğ:      rega_no, mukerrer_no, rega_tarihi\n",
    "#resmi:       rega_no, mukerrer_no, rega_tarihi"
   ]
  },
  {
   "cell_type": "code",
   "execution_count": null,
   "metadata": {},
   "outputs": [],
   "source": [
    "\n",
    "# dataframe for results\n",
    "results_df = pd.DataFrame(columns=[\"data_text\", \"kategori\", \"rega_no\", \"mukerrer_no\", \"rega_tarihi\", \"mevzuat_no\", \"belge_sayi\", \"mevzuat_tarihi\", \"donem\", \"sira_no\", \"madde_sayisi\", \"kurum\"])\n",
    "results_df.loc[0, \"mukerrer_no\"] = 0\n",
    "results_df.loc[0, \"madde_sayisi\"] = 0\n",
    "results_df.loc[0, \"kurum\"] = np.NaN\n",
    "\n",
    "for i, text in enumerate(tqdm(df.data_text.values)):\n",
    "    results_df.loc[i, \"data_text\"] = text\n",
    "    kategori_prediction = predict_category(model, word_index, label_dict, 64, text)\n",
    "    results_df.loc[i, \"kategori\"] = kategori_prediction\n",
    "    \n",
    "    if kategori_prediction == \"Kanun Hükmünde Kararname\":\n",
    "        rega_no, mukerrer_no, rega_tarihi, mevzuat_no, mevzuat_tarihi, madde_sayisi = extract_kanun_hukmunde_kararname_info(text)\n",
    "        results_df.loc[i, \"rega_no\"] = rega_no\n",
    "        results_df.loc[i, \"mukerrer_no\"] = mukerrer_no\n",
    "        results_df.loc[i, \"rega_tarihi\"] = rega_tarihi\n",
    "        results_df.loc[i, \"mevzuat_tarihi\"] = mevzuat_tarihi\n",
    "        results_df.loc[i, \"mevzuat_no\"] = mevzuat_no\n",
    "        results_df.loc[i, \"madde_sayisi\"] = madde_sayisi\n",
    "    \n",
    "    if kategori_prediction == \"Cumhurbaşkanlığı Kararnamesi\":\n",
    "        rega_no, mukerrer_no, rega_tarihi, mevzuat_no, mevzuat_tarihi, madde_sayisi = extract_cumhurbaskanligi_kararnamesi_info(text)\n",
    "        results_df.loc[i, \"rega_no\"] = rega_no\n",
    "        results_df.loc[i, \"mukerrer_no\"] = mukerrer_no\n",
    "        results_df.loc[i, \"rega_tarihi\"] = rega_tarihi\n",
    "        results_df.loc[i, \"mevzuat_tarihi\"] = mevzuat_tarihi\n",
    "        results_df.loc[i, \"mevzuat_no\"] = mevzuat_no\n",
    "        results_df.loc[i, \"madde_sayisi\"] = madde_sayisi\n",
    "    \n",
    "    if kategori_prediction == \"Genelge\":\n",
    "        mevzuat_tarihi, mevzuat_no, belge_sayi = extract_genelge_info(text)\n",
    "        results_df.loc[i, \"mevzuat_tarihi\"] = mevzuat_tarihi\n",
    "        results_df.loc[i, \"belge_sayi\"] = belge_sayi\n",
    "        results_df.loc[i, \"mevzuat_no\"] = mevzuat_no\n",
    "        \n",
    "    if kategori_prediction == \"Kanun\":\n",
    "        rega_no, mukerrer_no, rega_tarihi, mevzuat_tarihi, mevzuat_no, madde_sayisi = extract_kanun_info(text)\n",
    "        results_df.loc[i, \"rega_no\"] = rega_no\n",
    "        results_df.loc[i, \"mukerrer_no\"] = mukerrer_no\n",
    "        results_df.loc[i, \"rega_tarihi\"] = rega_tarihi\n",
    "        results_df.loc[i, \"mevzuat_tarihi\"] = mevzuat_tarihi\n",
    "        results_df.loc[i, \"mevzuat_no\"] = mevzuat_no\n",
    "        results_df.loc[i, \"madde_sayisi\"] = madde_sayisi\n",
    "        \n",
    "    if kategori_prediction == \"Komisyon Raporu\":\n",
    "        sira_no, donem = extract_komisyon_raporu_info(text)\n",
    "        results_df.loc[i, \"sira_no\"] = sira_no\n",
    "        results_df.loc[i, \"donem\"] = donem\n",
    "        \n",
    "    if kategori_prediction == \"Resmi Gazete\":\n",
    "        rega_no, mukerrer_no, rega_tarihi = extract_resmi_gazete_info(text)\n",
    "        results_df.loc[i, \"rega_no\"] = rega_no\n",
    "        results_df.loc[i, \"mukerrer_no\"] = mukerrer_no\n",
    "        results_df.loc[i, \"rega_tarihi\"] = rega_tarihi\n",
    "    \n",
    "    if kategori_prediction == \"Yönetmelik\":\n",
    "        rega_no, mukerrer_no, rega_tarihi = extract_teblig_info(text)\n",
    "        results_df.loc[i, \"rega_no\"] = rega_no\n",
    "        results_df.loc[i, \"mukerrer_no\"] = mukerrer_no\n",
    "        results_df.loc[i, \"rega_tarihi\"] = rega_tarihi\n",
    "        \n",
    "    if kategori_prediction == \"Tebliğ\":\n",
    "        rega_no, mukerrer_no, rega_tarihi = extract_teblig_info(text)\n",
    "        results_df.loc[i, \"rega_no\"] = rega_no\n",
    "        results_df.loc[i, \"mukerrer_no\"] = mukerrer_no\n",
    "        results_df.loc[i, \"rega_tarihi\"] = rega_tarihi\n",
    "        \n",
    "    if kategori_prediction == \"Tüzük\":\n",
    "        rega_no, mukerrer_no, rega_tarihi, mevzuat_no, mevzuat_tarihi, madde_sayisi = extract_tuzuk_info(text)\n",
    "        results_df.loc[i, \"rega_no\"] = rega_no\n",
    "        results_df.loc[i, \"mukerrer_no\"] = mukerrer_no\n",
    "        results_df.loc[i, \"rega_tarihi\"] = rega_tarihi\n",
    "        results_df.loc[i, \"mevzuat_no\"] = mevzuat_no\n",
    "        results_df.loc[i, \"rega_tarihi\"] = rega_tarihi\n",
    "        results_df.loc[i, \"mevzuat_tarihi\"] = mevzuat_tarihi\n",
    "        results_df.loc[i, \"madde_sayisi\"] = madde_sayisi  \n",
    "        \n",
    "    if kategori_prediction == \"Özelge\":\n",
    "        mevzuat_tarihi = extract_ozelge_info(text)\n",
    "        results_df.loc[i, \"mevzuat_tarihi\"] = mevzuat_tarihi\n",
    "        \n",
    "results_df.madde_sayisi = results_df.madde_sayisi.fillna(0)\n",
    "results_df.mukerrer_no = results_df.mukerrer_no.fillna(0)    \n"
   ]
  },
  {
   "cell_type": "code",
   "execution_count": null,
   "metadata": {},
   "outputs": [],
   "source": [
    "results_df.to_csv(outputs_dir + \"ornek-eval-dataset.csv\", index=None)"
   ]
  },
  {
   "cell_type": "code",
   "execution_count": null,
   "metadata": {},
   "outputs": [],
   "source": []
  }
 ],
 "metadata": {
  "kernelspec": {
   "display_name": "Python 3.9.7 64-bit ('tensor')",
   "language": "python",
   "name": "python3"
  },
  "language_info": {
   "codemirror_mode": {
    "name": "ipython",
    "version": 3
   },
   "file_extension": ".py",
   "mimetype": "text/x-python",
   "name": "python",
   "nbconvert_exporter": "python",
   "pygments_lexer": "ipython3",
   "version": "3.9.7"
  },
  "orig_nbformat": 4,
  "vscode": {
   "interpreter": {
    "hash": "9e5cdcf29e6ac6d41db7b25e6e646745a9c3c14d94f4e2d05336539cd6cf747b"
   }
  }
 },
 "nbformat": 4,
 "nbformat_minor": 2
}
